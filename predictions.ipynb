{
 "cells": [
  {
   "cell_type": "code",
   "execution_count": 1,
   "metadata": {},
   "outputs": [],
   "source": [
    "import numpy as np\n",
    "import pandas as pd\n",
    "import matplotlib.pyplot as plt\n",
    "import seaborn as sns"
   ]
  },
  {
   "cell_type": "code",
   "execution_count": 2,
   "metadata": {},
   "outputs": [],
   "source": [
    "df = pd.read_csv(\"Final_DF_Cars.csv\")"
   ]
  },
  {
   "cell_type": "code",
   "execution_count": 3,
   "metadata": {},
   "outputs": [
    {
     "data": {
      "text/html": [
       "<div>\n",
       "<style scoped>\n",
       "    .dataframe tbody tr th:only-of-type {\n",
       "        vertical-align: middle;\n",
       "    }\n",
       "\n",
       "    .dataframe tbody tr th {\n",
       "        vertical-align: top;\n",
       "    }\n",
       "\n",
       "    .dataframe thead th {\n",
       "        text-align: right;\n",
       "    }\n",
       "</style>\n",
       "<table border=\"1\" class=\"dataframe\">\n",
       "  <thead>\n",
       "    <tr style=\"text-align: right;\">\n",
       "      <th></th>\n",
       "      <th>Unnamed: 0</th>\n",
       "      <th>km_driven</th>\n",
       "      <th>seats</th>\n",
       "      <th>selling_price_USD</th>\n",
       "      <th>mileage_kmpl</th>\n",
       "      <th>max_power_bhp</th>\n",
       "      <th>engine_CC</th>\n",
       "      <th>fuel_Diesel</th>\n",
       "      <th>fuel_LPG</th>\n",
       "      <th>fuel_Petrol</th>\n",
       "      <th>...</th>\n",
       "      <th>seller_type_Trustmark Dealer</th>\n",
       "      <th>transmission_Manual</th>\n",
       "      <th>owner_Fourth &amp; Above Owner</th>\n",
       "      <th>owner_Second Owner</th>\n",
       "      <th>owner_Test Drive Car</th>\n",
       "      <th>owner_Third Owner</th>\n",
       "      <th>year_cat_2001 - 2005</th>\n",
       "      <th>year_cat_2006 - 2010</th>\n",
       "      <th>year_cat_2011 - 2015</th>\n",
       "      <th>year_cat_2016 - 2020</th>\n",
       "    </tr>\n",
       "  </thead>\n",
       "  <tbody>\n",
       "    <tr>\n",
       "      <th>0</th>\n",
       "      <td>0</td>\n",
       "      <td>145500</td>\n",
       "      <td>5</td>\n",
       "      <td>5400.0</td>\n",
       "      <td>23.40</td>\n",
       "      <td>74.00</td>\n",
       "      <td>1248</td>\n",
       "      <td>1</td>\n",
       "      <td>0</td>\n",
       "      <td>0</td>\n",
       "      <td>...</td>\n",
       "      <td>0</td>\n",
       "      <td>1</td>\n",
       "      <td>0</td>\n",
       "      <td>0</td>\n",
       "      <td>0</td>\n",
       "      <td>0</td>\n",
       "      <td>0</td>\n",
       "      <td>0</td>\n",
       "      <td>1</td>\n",
       "      <td>0</td>\n",
       "    </tr>\n",
       "    <tr>\n",
       "      <th>1</th>\n",
       "      <td>1</td>\n",
       "      <td>120000</td>\n",
       "      <td>5</td>\n",
       "      <td>4440.0</td>\n",
       "      <td>21.14</td>\n",
       "      <td>103.52</td>\n",
       "      <td>1498</td>\n",
       "      <td>1</td>\n",
       "      <td>0</td>\n",
       "      <td>0</td>\n",
       "      <td>...</td>\n",
       "      <td>0</td>\n",
       "      <td>1</td>\n",
       "      <td>0</td>\n",
       "      <td>1</td>\n",
       "      <td>0</td>\n",
       "      <td>0</td>\n",
       "      <td>0</td>\n",
       "      <td>0</td>\n",
       "      <td>1</td>\n",
       "      <td>0</td>\n",
       "    </tr>\n",
       "    <tr>\n",
       "      <th>2</th>\n",
       "      <td>2</td>\n",
       "      <td>140000</td>\n",
       "      <td>5</td>\n",
       "      <td>1896.0</td>\n",
       "      <td>17.70</td>\n",
       "      <td>78.00</td>\n",
       "      <td>1497</td>\n",
       "      <td>0</td>\n",
       "      <td>0</td>\n",
       "      <td>1</td>\n",
       "      <td>...</td>\n",
       "      <td>0</td>\n",
       "      <td>1</td>\n",
       "      <td>0</td>\n",
       "      <td>0</td>\n",
       "      <td>0</td>\n",
       "      <td>1</td>\n",
       "      <td>0</td>\n",
       "      <td>1</td>\n",
       "      <td>0</td>\n",
       "      <td>0</td>\n",
       "    </tr>\n",
       "    <tr>\n",
       "      <th>3</th>\n",
       "      <td>3</td>\n",
       "      <td>127000</td>\n",
       "      <td>5</td>\n",
       "      <td>2700.0</td>\n",
       "      <td>23.00</td>\n",
       "      <td>90.00</td>\n",
       "      <td>1396</td>\n",
       "      <td>1</td>\n",
       "      <td>0</td>\n",
       "      <td>0</td>\n",
       "      <td>...</td>\n",
       "      <td>0</td>\n",
       "      <td>1</td>\n",
       "      <td>0</td>\n",
       "      <td>0</td>\n",
       "      <td>0</td>\n",
       "      <td>0</td>\n",
       "      <td>0</td>\n",
       "      <td>1</td>\n",
       "      <td>0</td>\n",
       "      <td>0</td>\n",
       "    </tr>\n",
       "    <tr>\n",
       "      <th>4</th>\n",
       "      <td>4</td>\n",
       "      <td>120000</td>\n",
       "      <td>5</td>\n",
       "      <td>1560.0</td>\n",
       "      <td>16.10</td>\n",
       "      <td>88.20</td>\n",
       "      <td>1298</td>\n",
       "      <td>0</td>\n",
       "      <td>0</td>\n",
       "      <td>1</td>\n",
       "      <td>...</td>\n",
       "      <td>0</td>\n",
       "      <td>1</td>\n",
       "      <td>0</td>\n",
       "      <td>0</td>\n",
       "      <td>0</td>\n",
       "      <td>0</td>\n",
       "      <td>0</td>\n",
       "      <td>1</td>\n",
       "      <td>0</td>\n",
       "      <td>0</td>\n",
       "    </tr>\n",
       "  </tbody>\n",
       "</table>\n",
       "<p>5 rows × 21 columns</p>\n",
       "</div>"
      ],
      "text/plain": [
       "   Unnamed: 0  km_driven  seats  selling_price_USD  mileage_kmpl  \\\n",
       "0           0     145500      5             5400.0         23.40   \n",
       "1           1     120000      5             4440.0         21.14   \n",
       "2           2     140000      5             1896.0         17.70   \n",
       "3           3     127000      5             2700.0         23.00   \n",
       "4           4     120000      5             1560.0         16.10   \n",
       "\n",
       "   max_power_bhp  engine_CC  fuel_Diesel  fuel_LPG  fuel_Petrol  ...  \\\n",
       "0          74.00       1248            1         0            0  ...   \n",
       "1         103.52       1498            1         0            0  ...   \n",
       "2          78.00       1497            0         0            1  ...   \n",
       "3          90.00       1396            1         0            0  ...   \n",
       "4          88.20       1298            0         0            1  ...   \n",
       "\n",
       "   seller_type_Trustmark Dealer  transmission_Manual  \\\n",
       "0                             0                    1   \n",
       "1                             0                    1   \n",
       "2                             0                    1   \n",
       "3                             0                    1   \n",
       "4                             0                    1   \n",
       "\n",
       "   owner_Fourth & Above Owner  owner_Second Owner  owner_Test Drive Car  \\\n",
       "0                           0                   0                     0   \n",
       "1                           0                   1                     0   \n",
       "2                           0                   0                     0   \n",
       "3                           0                   0                     0   \n",
       "4                           0                   0                     0   \n",
       "\n",
       "   owner_Third Owner  year_cat_2001 - 2005  year_cat_2006 - 2010  \\\n",
       "0                  0                     0                     0   \n",
       "1                  0                     0                     0   \n",
       "2                  1                     0                     1   \n",
       "3                  0                     0                     1   \n",
       "4                  0                     0                     1   \n",
       "\n",
       "   year_cat_2011 - 2015  year_cat_2016 - 2020  \n",
       "0                     1                     0  \n",
       "1                     1                     0  \n",
       "2                     0                     0  \n",
       "3                     0                     0  \n",
       "4                     0                     0  \n",
       "\n",
       "[5 rows x 21 columns]"
      ]
     },
     "execution_count": 3,
     "metadata": {},
     "output_type": "execute_result"
    }
   ],
   "source": [
    "df.head()"
   ]
  },
  {
   "cell_type": "code",
   "execution_count": 4,
   "metadata": {},
   "outputs": [
    {
     "data": {
      "text/html": [
       "<div>\n",
       "<style scoped>\n",
       "    .dataframe tbody tr th:only-of-type {\n",
       "        vertical-align: middle;\n",
       "    }\n",
       "\n",
       "    .dataframe tbody tr th {\n",
       "        vertical-align: top;\n",
       "    }\n",
       "\n",
       "    .dataframe thead th {\n",
       "        text-align: right;\n",
       "    }\n",
       "</style>\n",
       "<table border=\"1\" class=\"dataframe\">\n",
       "  <thead>\n",
       "    <tr style=\"text-align: right;\">\n",
       "      <th></th>\n",
       "      <th>km_driven</th>\n",
       "      <th>seats</th>\n",
       "      <th>selling_price_USD</th>\n",
       "      <th>mileage_kmpl</th>\n",
       "      <th>max_power_bhp</th>\n",
       "      <th>engine_CC</th>\n",
       "      <th>fuel_Diesel</th>\n",
       "      <th>fuel_LPG</th>\n",
       "      <th>fuel_Petrol</th>\n",
       "      <th>seller_type_Individual</th>\n",
       "      <th>seller_type_Trustmark Dealer</th>\n",
       "      <th>transmission_Manual</th>\n",
       "      <th>owner_Fourth &amp; Above Owner</th>\n",
       "      <th>owner_Second Owner</th>\n",
       "      <th>owner_Test Drive Car</th>\n",
       "      <th>owner_Third Owner</th>\n",
       "      <th>year_cat_2001 - 2005</th>\n",
       "      <th>year_cat_2006 - 2010</th>\n",
       "      <th>year_cat_2011 - 2015</th>\n",
       "      <th>year_cat_2016 - 2020</th>\n",
       "    </tr>\n",
       "  </thead>\n",
       "  <tbody>\n",
       "    <tr>\n",
       "      <th>0</th>\n",
       "      <td>145500</td>\n",
       "      <td>5</td>\n",
       "      <td>5400.0</td>\n",
       "      <td>23.40</td>\n",
       "      <td>74.00</td>\n",
       "      <td>1248</td>\n",
       "      <td>1</td>\n",
       "      <td>0</td>\n",
       "      <td>0</td>\n",
       "      <td>1</td>\n",
       "      <td>0</td>\n",
       "      <td>1</td>\n",
       "      <td>0</td>\n",
       "      <td>0</td>\n",
       "      <td>0</td>\n",
       "      <td>0</td>\n",
       "      <td>0</td>\n",
       "      <td>0</td>\n",
       "      <td>1</td>\n",
       "      <td>0</td>\n",
       "    </tr>\n",
       "    <tr>\n",
       "      <th>1</th>\n",
       "      <td>120000</td>\n",
       "      <td>5</td>\n",
       "      <td>4440.0</td>\n",
       "      <td>21.14</td>\n",
       "      <td>103.52</td>\n",
       "      <td>1498</td>\n",
       "      <td>1</td>\n",
       "      <td>0</td>\n",
       "      <td>0</td>\n",
       "      <td>1</td>\n",
       "      <td>0</td>\n",
       "      <td>1</td>\n",
       "      <td>0</td>\n",
       "      <td>1</td>\n",
       "      <td>0</td>\n",
       "      <td>0</td>\n",
       "      <td>0</td>\n",
       "      <td>0</td>\n",
       "      <td>1</td>\n",
       "      <td>0</td>\n",
       "    </tr>\n",
       "    <tr>\n",
       "      <th>2</th>\n",
       "      <td>140000</td>\n",
       "      <td>5</td>\n",
       "      <td>1896.0</td>\n",
       "      <td>17.70</td>\n",
       "      <td>78.00</td>\n",
       "      <td>1497</td>\n",
       "      <td>0</td>\n",
       "      <td>0</td>\n",
       "      <td>1</td>\n",
       "      <td>1</td>\n",
       "      <td>0</td>\n",
       "      <td>1</td>\n",
       "      <td>0</td>\n",
       "      <td>0</td>\n",
       "      <td>0</td>\n",
       "      <td>1</td>\n",
       "      <td>0</td>\n",
       "      <td>1</td>\n",
       "      <td>0</td>\n",
       "      <td>0</td>\n",
       "    </tr>\n",
       "    <tr>\n",
       "      <th>3</th>\n",
       "      <td>127000</td>\n",
       "      <td>5</td>\n",
       "      <td>2700.0</td>\n",
       "      <td>23.00</td>\n",
       "      <td>90.00</td>\n",
       "      <td>1396</td>\n",
       "      <td>1</td>\n",
       "      <td>0</td>\n",
       "      <td>0</td>\n",
       "      <td>1</td>\n",
       "      <td>0</td>\n",
       "      <td>1</td>\n",
       "      <td>0</td>\n",
       "      <td>0</td>\n",
       "      <td>0</td>\n",
       "      <td>0</td>\n",
       "      <td>0</td>\n",
       "      <td>1</td>\n",
       "      <td>0</td>\n",
       "      <td>0</td>\n",
       "    </tr>\n",
       "    <tr>\n",
       "      <th>4</th>\n",
       "      <td>120000</td>\n",
       "      <td>5</td>\n",
       "      <td>1560.0</td>\n",
       "      <td>16.10</td>\n",
       "      <td>88.20</td>\n",
       "      <td>1298</td>\n",
       "      <td>0</td>\n",
       "      <td>0</td>\n",
       "      <td>1</td>\n",
       "      <td>1</td>\n",
       "      <td>0</td>\n",
       "      <td>1</td>\n",
       "      <td>0</td>\n",
       "      <td>0</td>\n",
       "      <td>0</td>\n",
       "      <td>0</td>\n",
       "      <td>0</td>\n",
       "      <td>1</td>\n",
       "      <td>0</td>\n",
       "      <td>0</td>\n",
       "    </tr>\n",
       "  </tbody>\n",
       "</table>\n",
       "</div>"
      ],
      "text/plain": [
       "   km_driven  seats  selling_price_USD  mileage_kmpl  max_power_bhp  \\\n",
       "0     145500      5             5400.0         23.40          74.00   \n",
       "1     120000      5             4440.0         21.14         103.52   \n",
       "2     140000      5             1896.0         17.70          78.00   \n",
       "3     127000      5             2700.0         23.00          90.00   \n",
       "4     120000      5             1560.0         16.10          88.20   \n",
       "\n",
       "   engine_CC  fuel_Diesel  fuel_LPG  fuel_Petrol  seller_type_Individual  \\\n",
       "0       1248            1         0            0                       1   \n",
       "1       1498            1         0            0                       1   \n",
       "2       1497            0         0            1                       1   \n",
       "3       1396            1         0            0                       1   \n",
       "4       1298            0         0            1                       1   \n",
       "\n",
       "   seller_type_Trustmark Dealer  transmission_Manual  \\\n",
       "0                             0                    1   \n",
       "1                             0                    1   \n",
       "2                             0                    1   \n",
       "3                             0                    1   \n",
       "4                             0                    1   \n",
       "\n",
       "   owner_Fourth & Above Owner  owner_Second Owner  owner_Test Drive Car  \\\n",
       "0                           0                   0                     0   \n",
       "1                           0                   1                     0   \n",
       "2                           0                   0                     0   \n",
       "3                           0                   0                     0   \n",
       "4                           0                   0                     0   \n",
       "\n",
       "   owner_Third Owner  year_cat_2001 - 2005  year_cat_2006 - 2010  \\\n",
       "0                  0                     0                     0   \n",
       "1                  0                     0                     0   \n",
       "2                  1                     0                     1   \n",
       "3                  0                     0                     1   \n",
       "4                  0                     0                     1   \n",
       "\n",
       "   year_cat_2011 - 2015  year_cat_2016 - 2020  \n",
       "0                     1                     0  \n",
       "1                     1                     0  \n",
       "2                     0                     0  \n",
       "3                     0                     0  \n",
       "4                     0                     0  "
      ]
     },
     "execution_count": 4,
     "metadata": {},
     "output_type": "execute_result"
    }
   ],
   "source": [
    "df.drop(columns=[\"Unnamed: 0\"], inplace=True)\n",
    "df.head()"
   ]
  },
  {
   "cell_type": "code",
   "execution_count": 5,
   "metadata": {},
   "outputs": [
    {
     "name": "stdout",
     "output_type": "stream",
     "text": [
      "<class 'pandas.core.frame.DataFrame'>\n",
      "RangeIndex: 7902 entries, 0 to 7901\n",
      "Data columns (total 20 columns):\n",
      " #   Column                        Non-Null Count  Dtype  \n",
      "---  ------                        --------------  -----  \n",
      " 0   km_driven                     7902 non-null   int64  \n",
      " 1   seats                         7902 non-null   int64  \n",
      " 2   selling_price_USD             7902 non-null   float64\n",
      " 3   mileage_kmpl                  7902 non-null   float64\n",
      " 4   max_power_bhp                 7902 non-null   float64\n",
      " 5   engine_CC                     7902 non-null   int64  \n",
      " 6   fuel_Diesel                   7902 non-null   int64  \n",
      " 7   fuel_LPG                      7902 non-null   int64  \n",
      " 8   fuel_Petrol                   7902 non-null   int64  \n",
      " 9   seller_type_Individual        7902 non-null   int64  \n",
      " 10  seller_type_Trustmark Dealer  7902 non-null   int64  \n",
      " 11  transmission_Manual           7902 non-null   int64  \n",
      " 12  owner_Fourth & Above Owner    7902 non-null   int64  \n",
      " 13  owner_Second Owner            7902 non-null   int64  \n",
      " 14  owner_Test Drive Car          7902 non-null   int64  \n",
      " 15  owner_Third Owner             7902 non-null   int64  \n",
      " 16  year_cat_2001 - 2005          7902 non-null   int64  \n",
      " 17  year_cat_2006 - 2010          7902 non-null   int64  \n",
      " 18  year_cat_2011 - 2015          7902 non-null   int64  \n",
      " 19  year_cat_2016 - 2020          7902 non-null   int64  \n",
      "dtypes: float64(3), int64(17)\n",
      "memory usage: 1.2 MB\n"
     ]
    }
   ],
   "source": [
    "df.info()"
   ]
  },
  {
   "cell_type": "code",
   "execution_count": 6,
   "metadata": {},
   "outputs": [
    {
     "data": {
      "text/plain": [
       "count     7902.000000\n",
       "mean      7773.228970\n",
       "std       9643.184353\n",
       "min        359.988000\n",
       "25%       3240.000000\n",
       "50%       5400.000000\n",
       "75%       8280.000000\n",
       "max      78276.000000\n",
       "Name: selling_price_USD, dtype: float64"
      ]
     },
     "execution_count": 6,
     "metadata": {},
     "output_type": "execute_result"
    }
   ],
   "source": [
    "df['selling_price_USD'].describe()"
   ]
  },
  {
   "cell_type": "markdown",
   "metadata": {},
   "source": [
    "### Train | Test | Split"
   ]
  },
  {
   "cell_type": "code",
   "execution_count": 7,
   "metadata": {},
   "outputs": [],
   "source": [
    "from sklearn.model_selection import train_test_split"
   ]
  },
  {
   "cell_type": "code",
   "execution_count": 8,
   "metadata": {},
   "outputs": [],
   "source": [
    "X = df.drop('selling_price_USD', axis=1)\n",
    "y = df['selling_price_USD']"
   ]
  },
  {
   "cell_type": "code",
   "execution_count": 9,
   "metadata": {},
   "outputs": [],
   "source": [
    "X_train, X_OTHER, y_train, y_OTHER = train_test_split(X, y, test_size=0.3, random_state=101)\n",
    "X_eval, X_test, y_eval, y_test = train_test_split(X_OTHER, y_OTHER, test_size=0.5, random_state=101)"
   ]
  },
  {
   "cell_type": "code",
   "execution_count": 10,
   "metadata": {},
   "outputs": [],
   "source": [
    "from sklearn.preprocessing import StandardScaler\n",
    "scaler = StandardScaler()\n",
    "scaler.fit(X_train)\n",
    "X_train_sc = scaler.transform(X_train)\n",
    "X_eval_sc = scaler.transform(X_eval)\n",
    "X_test_sc = scaler.transform(X_test)"
   ]
  },
  {
   "cell_type": "markdown",
   "metadata": {},
   "source": [
    "### **Model**"
   ]
  },
  {
   "cell_type": "code",
   "execution_count": 11,
   "metadata": {},
   "outputs": [],
   "source": [
    "from sklearn.linear_model import LinearRegression"
   ]
  },
  {
   "cell_type": "code",
   "execution_count": 12,
   "metadata": {},
   "outputs": [],
   "source": [
    "model = LinearRegression()\n",
    "model.fit(X_train_sc, y_train)\n",
    "prediction_1 = model.predict(X_eval_sc)"
   ]
  },
  {
   "cell_type": "code",
   "execution_count": 13,
   "metadata": {},
   "outputs": [],
   "source": [
    "from sklearn.metrics import mean_absolute_error,mean_squared_error"
   ]
  },
  {
   "cell_type": "code",
   "execution_count": 14,
   "metadata": {},
   "outputs": [
    {
     "data": {
      "text/plain": [
       "3246.945364540365"
      ]
     },
     "execution_count": 14,
     "metadata": {},
     "output_type": "execute_result"
    }
   ],
   "source": [
    "MAE = mean_absolute_error(y_eval,prediction_1)\n",
    "MSE = mean_squared_error(y_eval,prediction_1)\n",
    "RMSE = np.sqrt(MSE)\n",
    "MAE"
   ]
  },
  {
   "cell_type": "code",
   "execution_count": 15,
   "metadata": {},
   "outputs": [
    {
     "data": {
      "text/plain": [
       "5260.464057820475"
      ]
     },
     "execution_count": 15,
     "metadata": {},
     "output_type": "execute_result"
    }
   ],
   "source": [
    "RMSE"
   ]
  },
  {
   "cell_type": "code",
   "execution_count": 16,
   "metadata": {},
   "outputs": [
    {
     "data": {
      "text/plain": [
       "7773.228970387244"
      ]
     },
     "execution_count": 16,
     "metadata": {},
     "output_type": "execute_result"
    }
   ],
   "source": [
    "df[\"selling_price_USD\"].mean()"
   ]
  },
  {
   "cell_type": "code",
   "execution_count": 17,
   "metadata": {},
   "outputs": [
    {
     "data": {
      "text/plain": [
       "array([-6.49880039e+02, -2.60368277e+02,  7.87338099e+02,  5.43223347e+03,\n",
       "        6.33525593e+02, -3.44072309e+02,  1.47738682e+02, -7.14009042e+02,\n",
       "       -1.20310723e+03, -7.31455832e+02, -1.80233118e+03, -1.29054585e+02,\n",
       "       -2.49786371e+02,  3.56263655e+02, -1.20199411e+02, -3.56790219e+02,\n",
       "       -1.20932143e+03, -1.55190425e+03,  3.88842433e+00])"
      ]
     },
     "execution_count": 17,
     "metadata": {},
     "output_type": "execute_result"
    }
   ],
   "source": [
    "model.coef_"
   ]
  },
  {
   "cell_type": "code",
   "execution_count": 18,
   "metadata": {},
   "outputs": [
    {
     "data": {
      "image/png": "[encoded data removed]",
      "text/plain": [
       "<Figure size 432x288 with 1 Axes>"
      ]
     },
     "metadata": {
      "needs_background": "light"
     },
     "output_type": "display_data"
    }
   ],
   "source": [
    "importances = pd.DataFrame(data={\"Attribute\": X_train.columns,\n",
    "                                \"Importance\": model.coef_})\n",
    "\n",
    "importances = importances.sort_values(by=\"Importance\", ascending=False)\n",
    "\n",
    "plt.bar(x=importances['Attribute'], height=importances['Importance'], color='#087E8B')\n",
    "plt.title('Feature importances obtained from coefficients', size=20)\n",
    "plt.xticks(rotation='vertical')\n",
    "plt.show()"
   ]
  },
  {
   "cell_type": "code",
   "execution_count": 19,
   "metadata": {},
   "outputs": [
    {
     "data": {
      "text/plain": [
       "<AxesSubplot:xlabel='max_power_bhp', ylabel='selling_price_USD'>"
      ]
     },
     "execution_count": 19,
     "metadata": {},
     "output_type": "execute_result"
    },
    {
     "data": {
      "image/png": "[encoded data removed]",
      "text/plain": [
       "<Figure size 432x288 with 1 Axes>"
      ]
     },
     "metadata": {
      "needs_background": "light"
     },
     "output_type": "display_data"
    }
   ],
   "source": [
    "sns.scatterplot(data=df, x=\"max_power_bhp\", y=\"selling_price_USD\")"
   ]
  },
  {
   "cell_type": "code",
   "execution_count": 20,
   "metadata": {},
   "outputs": [
    {
     "data": {
      "text/plain": [
       "<AxesSubplot:xlabel='max_power_bhp', ylabel='selling_price_USD'>"
      ]
     },
     "execution_count": 20,
     "metadata": {},
     "output_type": "execute_result"
    },
    {
     "data": {
      "image/png": "[encoded data removed]",
      "text/plain": [
       "<Figure size 432x288 with 1 Axes>"
      ]
     },
     "metadata": {
      "needs_background": "light"
     },
     "output_type": "display_data"
    }
   ],
   "source": [
    "sns.scatterplot(data=df, x=\"max_power_bhp\", y=\"selling_price_USD\")"
   ]
  },
  {
   "cell_type": "code",
   "execution_count": 21,
   "metadata": {},
   "outputs": [],
   "source": [
    "df = df.loc[df[\"max_power_bhp\"] < 210]"
   ]
  },
  {
   "cell_type": "code",
   "execution_count": 22,
   "metadata": {},
   "outputs": [
    {
     "data": {
      "text/html": [
       "<div>\n",
       "<style scoped>\n",
       "    .dataframe tbody tr th:only-of-type {\n",
       "        vertical-align: middle;\n",
       "    }\n",
       "\n",
       "    .dataframe tbody tr th {\n",
       "        vertical-align: top;\n",
       "    }\n",
       "\n",
       "    .dataframe thead th {\n",
       "        text-align: right;\n",
       "    }\n",
       "</style>\n",
       "<table border=\"1\" class=\"dataframe\">\n",
       "  <thead>\n",
       "    <tr style=\"text-align: right;\">\n",
       "      <th></th>\n",
       "      <th>km_driven</th>\n",
       "      <th>seats</th>\n",
       "      <th>selling_price_USD</th>\n",
       "      <th>mileage_kmpl</th>\n",
       "      <th>max_power_bhp</th>\n",
       "      <th>engine_CC</th>\n",
       "      <th>fuel_Diesel</th>\n",
       "      <th>fuel_LPG</th>\n",
       "      <th>fuel_Petrol</th>\n",
       "      <th>seller_type_Individual</th>\n",
       "      <th>seller_type_Trustmark Dealer</th>\n",
       "      <th>transmission_Manual</th>\n",
       "      <th>owner_Fourth &amp; Above Owner</th>\n",
       "      <th>owner_Second Owner</th>\n",
       "      <th>owner_Test Drive Car</th>\n",
       "      <th>owner_Third Owner</th>\n",
       "      <th>year_cat_2001 - 2005</th>\n",
       "      <th>year_cat_2006 - 2010</th>\n",
       "      <th>year_cat_2011 - 2015</th>\n",
       "      <th>year_cat_2016 - 2020</th>\n",
       "    </tr>\n",
       "  </thead>\n",
       "  <tbody>\n",
       "    <tr>\n",
       "      <th>0</th>\n",
       "      <td>145500</td>\n",
       "      <td>5</td>\n",
       "      <td>5400.0</td>\n",
       "      <td>23.40</td>\n",
       "      <td>74.00</td>\n",
       "      <td>1248</td>\n",
       "      <td>1</td>\n",
       "      <td>0</td>\n",
       "      <td>0</td>\n",
       "      <td>1</td>\n",
       "      <td>0</td>\n",
       "      <td>1</td>\n",
       "      <td>0</td>\n",
       "      <td>0</td>\n",
       "      <td>0</td>\n",
       "      <td>0</td>\n",
       "      <td>0</td>\n",
       "      <td>0</td>\n",
       "      <td>1</td>\n",
       "      <td>0</td>\n",
       "    </tr>\n",
       "    <tr>\n",
       "      <th>1</th>\n",
       "      <td>120000</td>\n",
       "      <td>5</td>\n",
       "      <td>4440.0</td>\n",
       "      <td>21.14</td>\n",
       "      <td>103.52</td>\n",
       "      <td>1498</td>\n",
       "      <td>1</td>\n",
       "      <td>0</td>\n",
       "      <td>0</td>\n",
       "      <td>1</td>\n",
       "      <td>0</td>\n",
       "      <td>1</td>\n",
       "      <td>0</td>\n",
       "      <td>1</td>\n",
       "      <td>0</td>\n",
       "      <td>0</td>\n",
       "      <td>0</td>\n",
       "      <td>0</td>\n",
       "      <td>1</td>\n",
       "      <td>0</td>\n",
       "    </tr>\n",
       "    <tr>\n",
       "      <th>2</th>\n",
       "      <td>140000</td>\n",
       "      <td>5</td>\n",
       "      <td>1896.0</td>\n",
       "      <td>17.70</td>\n",
       "      <td>78.00</td>\n",
       "      <td>1497</td>\n",
       "      <td>0</td>\n",
       "      <td>0</td>\n",
       "      <td>1</td>\n",
       "      <td>1</td>\n",
       "      <td>0</td>\n",
       "      <td>1</td>\n",
       "      <td>0</td>\n",
       "      <td>0</td>\n",
       "      <td>0</td>\n",
       "      <td>1</td>\n",
       "      <td>0</td>\n",
       "      <td>1</td>\n",
       "      <td>0</td>\n",
       "      <td>0</td>\n",
       "    </tr>\n",
       "    <tr>\n",
       "      <th>3</th>\n",
       "      <td>127000</td>\n",
       "      <td>5</td>\n",
       "      <td>2700.0</td>\n",
       "      <td>23.00</td>\n",
       "      <td>90.00</td>\n",
       "      <td>1396</td>\n",
       "      <td>1</td>\n",
       "      <td>0</td>\n",
       "      <td>0</td>\n",
       "      <td>1</td>\n",
       "      <td>0</td>\n",
       "      <td>1</td>\n",
       "      <td>0</td>\n",
       "      <td>0</td>\n",
       "      <td>0</td>\n",
       "      <td>0</td>\n",
       "      <td>0</td>\n",
       "      <td>1</td>\n",
       "      <td>0</td>\n",
       "      <td>0</td>\n",
       "    </tr>\n",
       "    <tr>\n",
       "      <th>4</th>\n",
       "      <td>120000</td>\n",
       "      <td>5</td>\n",
       "      <td>1560.0</td>\n",
       "      <td>16.10</td>\n",
       "      <td>88.20</td>\n",
       "      <td>1298</td>\n",
       "      <td>0</td>\n",
       "      <td>0</td>\n",
       "      <td>1</td>\n",
       "      <td>1</td>\n",
       "      <td>0</td>\n",
       "      <td>1</td>\n",
       "      <td>0</td>\n",
       "      <td>0</td>\n",
       "      <td>0</td>\n",
       "      <td>0</td>\n",
       "      <td>0</td>\n",
       "      <td>1</td>\n",
       "      <td>0</td>\n",
       "      <td>0</td>\n",
       "    </tr>\n",
       "  </tbody>\n",
       "</table>\n",
       "</div>"
      ],
      "text/plain": [
       "   km_driven  seats  selling_price_USD  mileage_kmpl  max_power_bhp  \\\n",
       "0     145500      5             5400.0         23.40          74.00   \n",
       "1     120000      5             4440.0         21.14         103.52   \n",
       "2     140000      5             1896.0         17.70          78.00   \n",
       "3     127000      5             2700.0         23.00          90.00   \n",
       "4     120000      5             1560.0         16.10          88.20   \n",
       "\n",
       "   engine_CC  fuel_Diesel  fuel_LPG  fuel_Petrol  seller_type_Individual  \\\n",
       "0       1248            1         0            0                       1   \n",
       "1       1498            1         0            0                       1   \n",
       "2       1497            0         0            1                       1   \n",
       "3       1396            1         0            0                       1   \n",
       "4       1298            0         0            1                       1   \n",
       "\n",
       "   seller_type_Trustmark Dealer  transmission_Manual  \\\n",
       "0                             0                    1   \n",
       "1                             0                    1   \n",
       "2                             0                    1   \n",
       "3                             0                    1   \n",
       "4                             0                    1   \n",
       "\n",
       "   owner_Fourth & Above Owner  owner_Second Owner  owner_Test Drive Car  \\\n",
       "0                           0                   0                     0   \n",
       "1                           0                   1                     0   \n",
       "2                           0                   0                     0   \n",
       "3                           0                   0                     0   \n",
       "4                           0                   0                     0   \n",
       "\n",
       "   owner_Third Owner  year_cat_2001 - 2005  year_cat_2006 - 2010  \\\n",
       "0                  0                     0                     0   \n",
       "1                  0                     0                     0   \n",
       "2                  1                     0                     1   \n",
       "3                  0                     0                     1   \n",
       "4                  0                     0                     1   \n",
       "\n",
       "   year_cat_2011 - 2015  year_cat_2016 - 2020  \n",
       "0                     1                     0  \n",
       "1                     1                     0  \n",
       "2                     0                     0  \n",
       "3                     0                     0  \n",
       "4                     0                     0  "
      ]
     },
     "execution_count": 22,
     "metadata": {},
     "output_type": "execute_result"
    }
   ],
   "source": [
    "df.head()"
   ]
  },
  {
   "cell_type": "code",
   "execution_count": 23,
   "metadata": {},
   "outputs": [
    {
     "data": {
      "text/plain": [
       "<AxesSubplot:xlabel='max_power_bhp', ylabel='selling_price_USD'>"
      ]
     },
     "execution_count": 23,
     "metadata": {},
     "output_type": "execute_result"
    },
    {
     "data": {
      "image/png": "[encoded data removed]",
      "text/plain": [
       "<Figure size 432x288 with 1 Axes>"
      ]
     },
     "metadata": {
      "needs_background": "light"
     },
     "output_type": "display_data"
    }
   ],
   "source": [
    "sns.scatterplot(data=df, x=\"max_power_bhp\", y=\"selling_price_USD\")"
   ]
  },
  {
   "cell_type": "code",
   "execution_count": 24,
   "metadata": {},
   "outputs": [],
   "source": [
    "X = df.drop('selling_price_USD', axis=1)\n",
    "y = df['selling_price_USD']\n",
    "\n",
    "X_train, X_OTHER, y_train, y_OTHER = train_test_split(X, y, test_size=0.3, random_state=101)\n",
    "X_eval, X_test, y_eval, y_test = train_test_split(X_OTHER, y_OTHER, test_size=0.5, random_state=101)"
   ]
  },
  {
   "cell_type": "code",
   "execution_count": 25,
   "metadata": {},
   "outputs": [],
   "source": [
    "from sklearn.preprocessing import StandardScaler\n",
    "scaler = StandardScaler()\n",
    "scaler.fit(X_train)\n",
    "X_train_sc = scaler.transform(X_train)\n",
    "X_eval_sc = scaler.transform(X_eval)\n",
    "X_test_sc = scaler.transform(X_test)"
   ]
  },
  {
   "cell_type": "code",
   "execution_count": 26,
   "metadata": {},
   "outputs": [],
   "source": [
    "model = LinearRegression()\n",
    "model.fit(X_train_sc, y_train)\n",
    "y_pred = model.predict(X_eval_sc)"
   ]
  },
  {
   "cell_type": "code",
   "execution_count": 27,
   "metadata": {},
   "outputs": [
    {
     "name": "stdout",
     "output_type": "stream",
     "text": [
      "MAE:  2959.9879882252662\n",
      "RMSE:  4942.728945328433\n"
     ]
    }
   ],
   "source": [
    "MAE = mean_absolute_error(y_eval,y_pred)\n",
    "MSE = mean_squared_error(y_eval,y_pred)\n",
    "RMSE = np.sqrt(MSE)\n",
    "print(\"MAE: \", MAE)\n",
    "print(\"RMSE: \", RMSE)"
   ]
  },
  {
   "cell_type": "code",
   "execution_count": 28,
   "metadata": {},
   "outputs": [],
   "source": [
    "residual_error = y_eval - y_pred"
   ]
  },
  {
   "cell_type": "code",
   "execution_count": 29,
   "metadata": {},
   "outputs": [
    {
     "data": {
      "text/plain": [
       "<matplotlib.lines.Line2D at 0x7f447a007d68>"
      ]
     },
     "execution_count": 29,
     "metadata": {},
     "output_type": "execute_result"
    },
    {
     "data": {
      "image/png": "[encoded data removed]",
      "text/plain": [
       "<Figure size 432x288 with 1 Axes>"
      ]
     },
     "metadata": {
      "needs_background": "light"
     },
     "output_type": "display_data"
    }
   ],
   "source": [
    "sns.scatterplot(x=y_eval, y=residual_error)\n",
    "plt.axhline(y=0, color='r', linestyle='--')"
   ]
  },
  {
   "cell_type": "markdown",
   "metadata": {},
   "source": [
    "**Model Adjustment - Polynomial Features**"
   ]
  },
  {
   "cell_type": "code",
   "execution_count": 30,
   "metadata": {},
   "outputs": [],
   "source": [
    "from sklearn.preprocessing import PolynomialFeatures"
   ]
  },
  {
   "cell_type": "code",
   "execution_count": 31,
   "metadata": {},
   "outputs": [
    {
     "data": {
      "text/plain": [
       "[4942.728945328433, 2957.5593369864546, 22005130575171.168, 97135567472412.36]"
      ]
     },
     "execution_count": 31,
     "metadata": {},
     "output_type": "execute_result"
    }
   ],
   "source": [
    "# TRAINING ERROR PER DEGREE\n",
    "train_rmse_errors = []\n",
    "# TEST ERROR PER DEGREE\n",
    "test_rmse_errors = []\n",
    "\n",
    "for d in range(1,5):\n",
    "    \n",
    "    # CREATE POLY DATA SET FOR DEGREE \"d\"\n",
    "    polynomial_converter = PolynomialFeatures(degree=d,include_bias=False)\n",
    "    poly_features = polynomial_converter.fit_transform(X)\n",
    "    \n",
    "    # SPLIT THIS NEW POLY DATA SET\n",
    "    X_train, X_OTHER, y_train, y_OTHER = train_test_split(poly_features, y, test_size=0.3, random_state=101)\n",
    "    X_eval, X_test, y_eval, y_test = train_test_split(X_OTHER, y_OTHER, test_size=0.5, random_state=101)\n",
    "\n",
    "    # SCALE DATA\n",
    "    scaler = StandardScaler()\n",
    "    scaler.fit(X_train)\n",
    "    X_train_sc = scaler.transform(X_train)\n",
    "    X_eval_sc = scaler.transform(X_eval)\n",
    "    X_eval_sc = scaler.transform(X_eval)\n",
    "    \n",
    "    # TRAIN ON THIS NEW POLY SET\n",
    "    model = LinearRegression(fit_intercept=True)\n",
    "\n",
    "    model.fit(X_train_sc,y_train)\n",
    "    \n",
    "    # PREDICT ON BOTH TRAIN AND TEST\n",
    "    train_pred = model.predict(X_train_sc)\n",
    "    eval_pred = model.predict(X_eval_sc)\n",
    "    \n",
    "    # Calculate Errors\n",
    "    \n",
    "    # Errors on Train Set\n",
    "    train_RMSE = np.sqrt(mean_squared_error(y_train,train_pred))\n",
    "    \n",
    "    # Errors on Test Set\n",
    "    eval_RMSE = np.sqrt(mean_squared_error(y_eval,eval_pred))\n",
    "\n",
    "    # Append errors to lists for plotting later\n",
    "    \n",
    "   \n",
    "    train_rmse_errors.append(train_RMSE)\n",
    "    test_rmse_errors.append(eval_RMSE)\n",
    "test_rmse_errors"
   ]
  },
  {
   "cell_type": "code",
   "execution_count": 32,
   "metadata": {},
   "outputs": [
    {
     "data": {
      "text/plain": [
       "[4942.728945328433, 2957.5593369864546, 22005130575171.168, 97135567472412.36]"
      ]
     },
     "execution_count": 32,
     "metadata": {},
     "output_type": "execute_result"
    }
   ],
   "source": [
    "test_rmse_errors"
   ]
  },
  {
   "cell_type": "code",
   "execution_count": 33,
   "metadata": {},
   "outputs": [
    {
     "data": {
      "text/plain": [
       "<matplotlib.legend.Legend at 0x7f4479ebc4a8>"
      ]
     },
     "execution_count": 33,
     "metadata": {},
     "output_type": "execute_result"
    },
    {
     "data": {
      "image/png": "[encoded data removed]",
      "text/plain": [
       "<Figure size 432x288 with 1 Axes>"
      ]
     },
     "metadata": {
      "needs_background": "light"
     },
     "output_type": "display_data"
    }
   ],
   "source": [
    "plt.plot(range(1,5),train_rmse_errors,label='TRAIN')\n",
    "plt.plot(range(1,5),test_rmse_errors,label='TEST')\n",
    "plt.xlabel(\"Polynomial Complexity\")\n",
    "plt.ylabel(\"RMSE\")\n",
    "plt.legend()"
   ]
  },
  {
   "cell_type": "code",
   "execution_count": 34,
   "metadata": {},
   "outputs": [],
   "source": [
    "polynomial_converter = PolynomialFeatures(degree=2,include_bias=False)\n",
    "poly_features = polynomial_converter.fit_transform(X)\n",
    "\n",
    "# SPLIT THIS NEW POLY DATA SET\n",
    "X_train, X_OTHER, y_train, y_OTHER = train_test_split(poly_features, y, test_size=0.3, random_state=101)\n",
    "X_eval, X_test, y_eval, y_test = train_test_split(X_OTHER, y_OTHER, test_size=0.5, random_state=101)\n",
    "\n",
    "# SCALE DATA\n",
    "scaler = StandardScaler()\n",
    "scaler.fit(X_train)\n",
    "X_train_sc = scaler.transform(X_train)\n",
    "X_eval_sc = scaler.transform(X_eval)\n",
    "X_test_sc = scaler.transform(X_test)\n",
    "\n",
    "# TRAIN ON THIS NEW POLY SET\n",
    "model = LinearRegression(fit_intercept=True)\n",
    "\n",
    "model.fit(X_train_sc,y_train)\n",
    "\n",
    "# PREDICT ON BOTH TRAIN AND TEST\n",
    "train_pred = model.predict(X_train_sc)\n",
    "eval_pred = model.predict(X_eval_sc)\n",
    "\n",
    "# Calculate Errors\n",
    "\n",
    "# Errors on Train Set\n",
    "train_RMSE = np.sqrt(mean_squared_error(y_train,train_pred))\n",
    "\n",
    "# Errors on Test Set\n",
    "eval_RMSE = np.sqrt(mean_squared_error(y_eval,eval_pred))\n",
    "\n"
   ]
  },
  {
   "cell_type": "code",
   "execution_count": 35,
   "metadata": {},
   "outputs": [
    {
     "name": "stdout",
     "output_type": "stream",
     "text": [
      "train_RMSE 3155.3181723791563\n",
      "eval_RMSE 2957.5593369864546\n"
     ]
    }
   ],
   "source": [
    "print(\"train_RMSE\", train_RMSE)\n",
    "print(\"eval_RMSE\", eval_RMSE)"
   ]
  },
  {
   "cell_type": "code",
   "execution_count": 36,
   "metadata": {},
   "outputs": [
    {
     "data": {
      "text/plain": [
       "<matplotlib.lines.Line2D at 0x7f447a0137b8>"
      ]
     },
     "execution_count": 36,
     "metadata": {},
     "output_type": "execute_result"
    },
    {
     "data": {
      "image/png": "[encoded data removed]",
      "text/plain": [
       "<Figure size 432x288 with 1 Axes>"
      ]
     },
     "metadata": {
      "needs_background": "light"
     },
     "output_type": "display_data"
    }
   ],
   "source": [
    "residual_error = y_eval - eval_pred\n",
    "\n",
    "sns.scatterplot(x=y_eval, y=residual_error)\n",
    "plt.axhline(y=0, color='r', linestyle='--')"
   ]
  },
  {
   "cell_type": "code",
   "execution_count": 37,
   "metadata": {},
   "outputs": [
    {
     "data": {
      "text/plain": [
       "<AxesSubplot:xlabel='selling_price_USD'>"
      ]
     },
     "execution_count": 37,
     "metadata": {},
     "output_type": "execute_result"
    },
    {
     "data": {
      "image/png": "[encoded data removed]",
      "text/plain": [
       "<Figure size 432x288 with 1 Axes>"
      ]
     },
     "metadata": {
      "needs_background": "light"
     },
     "output_type": "display_data"
    }
   ],
   "source": [
    "sns.scatterplot(x=y_eval, y=y_pred)"
   ]
  },
  {
   "cell_type": "code",
   "execution_count": 38,
   "metadata": {},
   "outputs": [
    {
     "data": {
      "text/plain": [
       "-4515.827332613176"
      ]
     },
     "execution_count": 38,
     "metadata": {},
     "output_type": "execute_result"
    }
   ],
   "source": [
    "y_pred.min()"
   ]
  },
  {
   "cell_type": "code",
   "execution_count": 39,
   "metadata": {},
   "outputs": [
    {
     "name": "stdout",
     "output_type": "stream",
     "text": [
      "Fitting 5 folds for each of 20 candidates, totalling 100 fits\n",
      "[CV 1/5] END .....................alpha=5.0;, score=-3215.535 total time=   2.0s\n",
      "[CV 2/5] END .....................alpha=5.0;, score=-3296.138 total time=   2.3s\n",
      "[CV 3/5] END .....................alpha=5.0;, score=-3811.878 total time=   2.2s\n",
      "[CV 4/5] END .....................alpha=5.0;, score=-3589.394 total time=   1.9s\n",
      "[CV 5/5] END .....................alpha=5.0;, score=-3166.190 total time=   2.6s\n",
      "[CV 1/5] END ......alpha=5.2105263157894735;, score=-3216.656 total time=   2.2s\n",
      "[CV 2/5] END ......alpha=5.2105263157894735;, score=-3296.658 total time=   2.0s\n",
      "[CV 3/5] END ......alpha=5.2105263157894735;, score=-3666.503 total time=   2.3s\n",
      "[CV 4/5] END ......alpha=5.2105263157894735;, score=-3588.838 total time=   2.2s\n",
      "[CV 5/5] END ......alpha=5.2105263157894735;, score=-3167.053 total time=   2.5s\n",
      "[CV 1/5] END .......alpha=5.421052631578947;, score=-3217.713 total time=   1.8s\n",
      "[CV 2/5] END .......alpha=5.421052631578947;, score=-3297.209 total time=   1.8s\n",
      "[CV 3/5] END .......alpha=5.421052631578947;, score=-3546.564 total time=   2.0s\n",
      "[CV 4/5] END .......alpha=5.421052631578947;, score=-3588.148 total time=   1.8s\n",
      "[CV 5/5] END .......alpha=5.421052631578947;, score=-3167.932 total time=   2.4s\n",
      "[CV 1/5] END .......alpha=5.631578947368421;, score=-3218.867 total time=   1.9s\n",
      "[CV 2/5] END .......alpha=5.631578947368421;, score=-3297.819 total time=   1.8s\n",
      "[CV 3/5] END .......alpha=5.631578947368421;, score=-3410.768 total time=   1.9s\n",
      "[CV 4/5] END .......alpha=5.631578947368421;, score=-3587.298 total time=   1.6s\n",
      "[CV 5/5] END .......alpha=5.631578947368421;, score=-3168.902 total time=   2.2s\n",
      "[CV 1/5] END .......alpha=5.842105263157895;, score=-3220.064 total time=   1.8s\n",
      "[CV 2/5] END .......alpha=5.842105263157895;, score=-3298.331 total time=   2.0s\n",
      "[CV 3/5] END .......alpha=5.842105263157895;, score=-3286.893 total time=   2.1s\n",
      "[CV 4/5] END .......alpha=5.842105263157895;, score=-3586.225 total time=   1.6s\n",
      "[CV 5/5] END .......alpha=5.842105263157895;, score=-3170.001 total time=   2.0s\n",
      "[CV 1/5] END .......alpha=6.052631578947368;, score=-3221.150 total time=   1.8s\n",
      "[CV 2/5] END .......alpha=6.052631578947368;, score=-3298.974 total time=   1.7s\n",
      "[CV 3/5] END .......alpha=6.052631578947368;, score=-3181.649 total time=   1.8s\n",
      "[CV 4/5] END .......alpha=6.052631578947368;, score=-3583.825 total time=   1.6s\n",
      "[CV 5/5] END .......alpha=6.052631578947368;, score=-3170.949 total time=   1.8s\n",
      "[CV 1/5] END ......alpha=6.2631578947368425;, score=-3222.438 total time=   1.7s\n",
      "[CV 2/5] END ......alpha=6.2631578947368425;, score=-3299.621 total time=   1.7s\n",
      "[CV 3/5] END ......alpha=6.2631578947368425;, score=-3095.878 total time=   1.8s\n",
      "[CV 4/5] END ......alpha=6.2631578947368425;, score=-3582.716 total time=   1.6s\n",
      "[CV 5/5] END ......alpha=6.2631578947368425;, score=-3171.232 total time=   2.2s\n",
      "[CV 1/5] END .......alpha=6.473684210526316;, score=-3223.638 total time=   1.7s\n",
      "[CV 2/5] END .......alpha=6.473684210526316;, score=-3300.313 total time=   1.6s\n",
      "[CV 3/5] END .......alpha=6.473684210526316;, score=-3018.558 total time=   1.8s\n",
      "[CV 4/5] END .......alpha=6.473684210526316;, score=-3581.829 total time=   1.7s\n",
      "[CV 5/5] END .......alpha=6.473684210526316;, score=-3171.875 total time=   2.2s\n",
      "[CV 1/5] END .......alpha=6.684210526315789;, score=-3224.793 total time=   1.7s\n",
      "[CV 2/5] END .......alpha=6.684210526315789;, score=-3300.992 total time=   1.8s\n",
      "[CV 3/5] END .......alpha=6.684210526315789;, score=-2946.376 total time=   1.7s\n",
      "[CV 4/5] END .......alpha=6.684210526315789;, score=-3580.804 total time=   1.6s\n",
      "[CV 5/5] END .......alpha=6.684210526315789;, score=-3172.554 total time=   2.1s\n",
      "[CV 1/5] END .......alpha=6.894736842105263;, score=-3225.564 total time=   1.7s\n",
      "[CV 2/5] END .......alpha=6.894736842105263;, score=-3301.575 total time=   1.8s\n",
      "[CV 3/5] END .......alpha=6.894736842105263;, score=-2887.544 total time=   1.9s\n",
      "[CV 4/5] END .......alpha=6.894736842105263;, score=-3579.898 total time=   1.7s\n",
      "[CV 5/5] END .......alpha=6.894736842105263;, score=-3173.290 total time=   2.0s\n",
      "[CV 1/5] END .......alpha=7.105263157894736;, score=-3226.750 total time=   1.6s\n",
      "[CV 2/5] END .......alpha=7.105263157894736;, score=-3302.134 total time=   1.6s\n",
      "[CV 3/5] END .......alpha=7.105263157894736;, score=-2845.168 total time=   1.6s\n",
      "[CV 4/5] END .......alpha=7.105263157894736;, score=-3577.781 total time=   1.7s\n",
      "[CV 5/5] END .......alpha=7.105263157894736;, score=-3174.388 total time=   2.1s\n",
      "[CV 1/5] END .......alpha=7.315789473684211;, score=-3227.584 total time=   1.9s\n",
      "[CV 2/5] END .......alpha=7.315789473684211;, score=-3302.717 total time=   1.5s\n",
      "[CV 3/5] END .......alpha=7.315789473684211;, score=-2822.347 total time=   1.6s\n",
      "[CV 4/5] END .......alpha=7.315789473684211;, score=-3576.601 total time=   1.6s\n",
      "[CV 5/5] END .......alpha=7.315789473684211;, score=-3174.913 total time=   1.8s\n",
      "[CV 1/5] END .......alpha=7.526315789473684;, score=-3228.372 total time=   1.6s\n",
      "[CV 2/5] END .......alpha=7.526315789473684;, score=-3303.427 total time=   1.5s\n",
      "[CV 3/5] END .......alpha=7.526315789473684;, score=-2818.640 total time=   1.5s\n",
      "[CV 4/5] END .......alpha=7.526315789473684;, score=-3573.042 total time=   1.6s\n",
      "[CV 5/5] END .......alpha=7.526315789473684;, score=-3175.367 total time=   1.9s\n",
      "[CV 1/5] END ......alpha=7.7368421052631575;, score=-3229.402 total time=   1.4s\n",
      "[CV 2/5] END ......alpha=7.7368421052631575;, score=-3304.160 total time=   1.5s\n",
      "[CV 3/5] END ......alpha=7.7368421052631575;, score=-2818.559 total time=   1.5s\n",
      "[CV 4/5] END ......alpha=7.7368421052631575;, score=-3571.341 total time=   1.6s\n",
      "[CV 5/5] END ......alpha=7.7368421052631575;, score=-3175.889 total time=   1.7s\n",
      "[CV 1/5] END .......alpha=7.947368421052632;, score=-3230.476 total time=   1.4s\n",
      "[CV 2/5] END .......alpha=7.947368421052632;, score=-3304.908 total time=   1.6s\n",
      "[CV 3/5] END .......alpha=7.947368421052632;, score=-2818.783 total time=   1.6s\n",
      "[CV 4/5] END .......alpha=7.947368421052632;, score=-3571.585 total time=   1.6s\n",
      "[CV 5/5] END .......alpha=7.947368421052632;, score=-3176.321 total time=   1.9s\n",
      "[CV 1/5] END .......alpha=8.157894736842106;, score=-3231.258 total time=   1.4s\n",
      "[CV 2/5] END .......alpha=8.157894736842106;, score=-3305.693 total time=   1.4s\n",
      "[CV 3/5] END .......alpha=8.157894736842106;, score=-2819.223 total time=   1.6s\n",
      "[CV 4/5] END .......alpha=8.157894736842106;, score=-3572.892 total time=   1.6s\n",
      "[CV 5/5] END .......alpha=8.157894736842106;, score=-3176.747 total time=   1.6s\n",
      "[CV 1/5] END .......alpha=8.368421052631579;, score=-3232.465 total time=   1.5s\n",
      "[CV 2/5] END .......alpha=8.368421052631579;, score=-3306.701 total time=   1.4s\n",
      "[CV 3/5] END .......alpha=8.368421052631579;, score=-2819.755 total time=   1.5s\n",
      "[CV 4/5] END .......alpha=8.368421052631579;, score=-3571.315 total time=   1.4s\n",
      "[CV 5/5] END .......alpha=8.368421052631579;, score=-3177.138 total time=   1.6s\n",
      "[CV 1/5] END .......alpha=8.578947368421051;, score=-3233.375 total time=   1.4s\n",
      "[CV 2/5] END .......alpha=8.578947368421051;, score=-3307.514 total time=   1.4s\n",
      "[CV 3/5] END .......alpha=8.578947368421051;, score=-2820.319 total time=   1.4s\n",
      "[CV 4/5] END .......alpha=8.578947368421051;, score=-3571.915 total time=   1.5s\n",
      "[CV 5/5] END .......alpha=8.578947368421051;, score=-3177.511 total time=   1.6s\n",
      "[CV 1/5] END .......alpha=8.789473684210526;, score=-3234.400 total time=   1.4s\n",
      "[CV 2/5] END .......alpha=8.789473684210526;, score=-3308.051 total time=   1.3s\n",
      "[CV 3/5] END .......alpha=8.789473684210526;, score=-2820.773 total time=   1.5s\n",
      "[CV 4/5] END .......alpha=8.789473684210526;, score=-3572.657 total time=   1.3s\n",
      "[CV 5/5] END .......alpha=8.789473684210526;, score=-3177.806 total time=   1.4s\n",
      "[CV 1/5] END .....................alpha=9.0;, score=-3234.736 total time=   1.2s\n",
      "[CV 2/5] END .....................alpha=9.0;, score=-3308.764 total time=   1.3s\n",
      "[CV 3/5] END .....................alpha=9.0;, score=-2821.175 total time=   1.2s\n",
      "[CV 4/5] END .....................alpha=9.0;, score=-3573.378 total time=   1.4s\n",
      "[CV 5/5] END .....................alpha=9.0;, score=-3178.148 total time=   1.5s\n"
     ]
    }
   ],
   "source": [
    "from sklearn.linear_model import Lasso\n",
    "from sklearn.model_selection import GridSearchCV\n",
    "\n",
    "\n",
    "polynomial_converter = PolynomialFeatures(degree=2,include_bias=False)\n",
    "poly_features = polynomial_converter.fit_transform(X)\n",
    "\n",
    "# SPLIT THIS NEW POLY DATA SET\n",
    "X_train, X_OTHER, y_train, y_OTHER = train_test_split(poly_features, y, test_size=0.3, random_state=101)\n",
    "X_eval, X_test, y_eval, y_test = train_test_split(X_OTHER, y_OTHER, test_size=0.5, random_state=101)\n",
    "\n",
    "# SCALE DATA\n",
    "scaler = StandardScaler()\n",
    "scaler.fit(X_train)\n",
    "X_train_sc = scaler.transform(X_train)\n",
    "X_eval_sc = scaler.transform(X_eval)\n",
    "X_test_sc = scaler.transform(X_test)\n",
    "\n",
    "# TRAIN ON THIS NEW POLY SET\n",
    "lasso_model = Lasso(tol=1e-2)\n",
    "lasso_alphas = np.linspace(5, 9, 20)\n",
    "param_grid = {'alpha': lasso_alphas}\n",
    "grid_model = GridSearchCV(estimator = lasso_model,\n",
    "                            param_grid=param_grid,\n",
    "                            scoring=\"neg_root_mean_squared_error\",\n",
    "                            cv=5,\n",
    "                            verbose=3)\n",
    "\n",
    "grid_model.fit(X_train_sc, y_train)\n",
    "\n",
    "# PREDICT ON BOTH TRAIN AND TEST\n",
    "train_pred = grid_model.predict(X_train_sc)\n",
    "eval_pred = grid_model.predict(X_eval_sc)\n",
    "\n",
    "# Calculate Errors\n",
    "\n",
    "# Errors on Train Set\n",
    "train_RMSE = np.sqrt(mean_squared_error(y_train,train_pred))\n",
    "\n",
    "# Errors on Test Set\n",
    "eval_RMSE = np.sqrt(mean_squared_error(y_eval,eval_pred))\n",
    "\n"
   ]
  },
  {
   "cell_type": "code",
   "execution_count": 40,
   "metadata": {},
   "outputs": [
    {
     "data": {
      "text/plain": [
       "Lasso(alpha=7.526315789473684, tol=0.01)"
      ]
     },
     "execution_count": 40,
     "metadata": {},
     "output_type": "execute_result"
    }
   ],
   "source": [
    "grid_model.best_estimator_"
   ]
  },
  {
   "cell_type": "code",
   "execution_count": 41,
   "metadata": {},
   "outputs": [
    {
     "name": "stdout",
     "output_type": "stream",
     "text": [
      "3079.3584128704656\n",
      "2897.6378426024726\n"
     ]
    }
   ],
   "source": [
    "print(np.sqrt(mean_squared_error(y_train,train_pred)))\n",
    "print(np.sqrt(mean_squared_error(y_eval,eval_pred)))"
   ]
  },
  {
   "cell_type": "code",
   "execution_count": 42,
   "metadata": {},
   "outputs": [
    {
     "data": {
      "text/plain": [
       "0.8774831612834457"
      ]
     },
     "execution_count": 42,
     "metadata": {},
     "output_type": "execute_result"
    }
   ],
   "source": [
    "from sklearn.metrics import r2_score\n",
    "r2_score(y_eval, eval_pred)"
   ]
  },
  {
   "cell_type": "code",
   "execution_count": 43,
   "metadata": {},
   "outputs": [],
   "source": [
    "test_pred = grid_model.predict(X_test_sc)"
   ]
  },
  {
   "cell_type": "code",
   "execution_count": 44,
   "metadata": {},
   "outputs": [
    {
     "name": "stdout",
     "output_type": "stream",
     "text": [
      "RMSE 3125.595371612662\n",
      "R^2 0.8265947166924326\n"
     ]
    }
   ],
   "source": [
    "print(\"RMSE\", np.sqrt(mean_squared_error(y_test,test_pred)))\n",
    "print(\"R^2\", r2_score(y_test, test_pred))"
   ]
  }
 ],
 "metadata": {
  "kernelspec": {
   "display_name": "Python 3.6.9 64-bit",
   "language": "python",
   "name": "python3"
  },
  "language_info": {
   "codemirror_mode": {
    "name": "ipython",
    "version": 3
   },
   "file_extension": ".py",
   "mimetype": "text/x-python",
   "name": "python",
   "nbconvert_exporter": "python",
   "pygments_lexer": "ipython3",
   "version": "3.6.9"
  },
  "orig_nbformat": 4,
  "vscode": {
   "interpreter": {
    "hash": "31f2aee4e71d21fbe5cf8b01ff0e069b9275f58929596ceb00d14d90e3e16cd6"
   }
  }
 },
 "nbformat": 4,
 "nbformat_minor": 2
}
